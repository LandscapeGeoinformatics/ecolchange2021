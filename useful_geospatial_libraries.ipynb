{
 "cells": [
  {
   "cell_type": "markdown",
   "id": "b19f3769-bee1-4e4d-bf0b-eb2c34508bbc",
   "metadata": {},
   "source": [
    "# Useful geospatial libraries for Data Analysis in Python"
   ]
  },
  {
   "cell_type": "markdown",
   "id": "308d0e19-2b31-4f13-8890-af6fdd3b3ef1",
   "metadata": {},
   "source": [
    "In this short tutorial we will be looking at some of the common geospatial Python libraries that can be useful for researchers dealing with spatial data.\n",
    "\n",
    "As an example, we will try to extract basic statistics on precipitation in the period 2016&ndash;2020 for the Emajõgi catchment in Tartu County, Estonia."
   ]
  },
  {
   "cell_type": "markdown",
   "id": "5ab7bf2c-cd10-4f07-acf6-74855dde2fd8",
   "metadata": {},
   "source": [
    "Our workflow will be as follows\n",
    "* Read and preprocess vector data with GeoPandas\n",
    "* Rasterize vector points into a grid with Geocube\n",
    "* Read and reproject raster data with Rasterio\n",
    "* Extract zonal statistics with Rasterstats"
   ]
  },
  {
   "cell_type": "markdown",
   "id": "57b312f4-e936-4603-b9bf-c3b6f1a8fe42",
   "metadata": {},
   "source": [
    "## Vector data preprocessing with GeoPandas"
   ]
  },
  {
   "cell_type": "markdown",
   "id": "ca04edc2-eda0-4bbe-b7ac-60c4df4cc2e3",
   "metadata": {},
   "source": [
    "We will start by reading the catchments from the corresponding shapefile. As mentioned above, the GeoPandas library can be used for vector data processing."
   ]
  },
  {
   "cell_type": "code",
   "execution_count": 11,
   "id": "025e0624-0eb0-4af2-a27a-deff11d58f96",
   "metadata": {},
   "outputs": [],
   "source": [
    "import geopandas as gpd"
   ]
  },
  {
   "cell_type": "code",
   "execution_count": 58,
   "id": "a5e8d373-ff7d-4d0f-aa42-0d6028e8781b",
   "metadata": {},
   "outputs": [],
   "source": [
    "catchments = gpd.read_file('data/catchments.shp')"
   ]
  },
  {
   "cell_type": "markdown",
   "id": "9bb0f2bb-300d-4f7a-827f-d3ddf598705b",
   "metadata": {},
   "source": [
    "The data is now in a GeoDataFrame, which allows for tabular processing of geospatial data. It is similar to how an attribute table can be viewed in GIS software like QGIS or ArcGIS."
   ]
  },
  {
   "cell_type": "code",
   "execution_count": 48,
   "id": "bf750a6d-0b73-4082-a4ed-c244f615fbea",
   "metadata": {},
   "outputs": [
    {
     "data": {
      "text/html": [
       "<div>\n",
       "<style scoped>\n",
       "    .dataframe tbody tr th:only-of-type {\n",
       "        vertical-align: middle;\n",
       "    }\n",
       "\n",
       "    .dataframe tbody tr th {\n",
       "        vertical-align: top;\n",
       "    }\n",
       "\n",
       "    .dataframe thead th {\n",
       "        text-align: right;\n",
       "    }\n",
       "</style>\n",
       "<table border=\"1\" class=\"dataframe\">\n",
       "  <thead>\n",
       "    <tr style=\"text-align: right;\">\n",
       "      <th></th>\n",
       "      <th>kood</th>\n",
       "      <th>nimi</th>\n",
       "      <th>Pindala</th>\n",
       "      <th>geometry</th>\n",
       "    </tr>\n",
       "  </thead>\n",
       "  <tbody>\n",
       "    <tr>\n",
       "      <th>0</th>\n",
       "      <td>1022700_1</td>\n",
       "      <td>Tamme</td>\n",
       "      <td>10.0312</td>\n",
       "      <td>POLYGON ((626095.000 6458390.000, 626110.000 6...</td>\n",
       "    </tr>\n",
       "    <tr>\n",
       "      <th>1</th>\n",
       "      <td>1022800_1</td>\n",
       "      <td>Ubesoo</td>\n",
       "      <td>98.1972</td>\n",
       "      <td>POLYGON ((631770.000 6453815.000, 631770.000 6...</td>\n",
       "    </tr>\n",
       "    <tr>\n",
       "      <th>2</th>\n",
       "      <td>1022300_1</td>\n",
       "      <td>Nigula</td>\n",
       "      <td>35.8977</td>\n",
       "      <td>POLYGON ((629375.000 6451310.000, 629375.000 6...</td>\n",
       "    </tr>\n",
       "    <tr>\n",
       "      <th>3</th>\n",
       "      <td>1022200_1</td>\n",
       "      <td>Ahtmiku</td>\n",
       "      <td>16.5277</td>\n",
       "      <td>POLYGON ((623265.000 6445715.000, 623265.000 6...</td>\n",
       "    </tr>\n",
       "    <tr>\n",
       "      <th>4</th>\n",
       "      <td>1021500_1</td>\n",
       "      <td>Rõngu</td>\n",
       "      <td>111.2170</td>\n",
       "      <td>POLYGON ((629255.000 6443980.000, 629215.000 6...</td>\n",
       "    </tr>\n",
       "  </tbody>\n",
       "</table>\n",
       "</div>"
      ],
      "text/plain": [
       "        kood     nimi   Pindala  \\\n",
       "0  1022700_1    Tamme   10.0312   \n",
       "1  1022800_1   Ubesoo   98.1972   \n",
       "2  1022300_1   Nigula   35.8977   \n",
       "3  1022200_1  Ahtmiku   16.5277   \n",
       "4  1021500_1    Rõngu  111.2170   \n",
       "\n",
       "                                            geometry  \n",
       "0  POLYGON ((626095.000 6458390.000, 626110.000 6...  \n",
       "1  POLYGON ((631770.000 6453815.000, 631770.000 6...  \n",
       "2  POLYGON ((629375.000 6451310.000, 629375.000 6...  \n",
       "3  POLYGON ((623265.000 6445715.000, 623265.000 6...  \n",
       "4  POLYGON ((629255.000 6443980.000, 629215.000 6...  "
      ]
     },
     "execution_count": 48,
     "metadata": {},
     "output_type": "execute_result"
    }
   ],
   "source": [
    "catchments.head()"
   ]
  },
  {
   "cell_type": "markdown",
   "id": "8c9229f2-4586-4cac-b281-d075de6937f1",
   "metadata": {},
   "source": [
    "We will check to see the CRS of the data and see that it is in the official Estonian CRS indicated by the code EPSG:3301."
   ]
  },
  {
   "cell_type": "code",
   "execution_count": 59,
   "id": "ee308603-2714-4725-a00a-8da670e43374",
   "metadata": {},
   "outputs": [
    {
     "data": {
      "text/plain": [
       "<Projected CRS: EPSG:3301>\n",
       "Name: Estonian Coordinate System of 1997\n",
       "Axis Info [cartesian]:\n",
       "- X[north]: Northing (metre)\n",
       "- Y[east]: Easting (metre)\n",
       "Area of Use:\n",
       "- name: Estonia - onshore and offshore.\n",
       "- bounds: (20.37, 57.52, 28.2, 60.0)\n",
       "Coordinate Operation:\n",
       "- name: Estonian National Grid\n",
       "- method: Lambert Conic Conformal (2SP)\n",
       "Datum: Estonia 1997\n",
       "- Ellipsoid: GRS 1980\n",
       "- Prime Meridian: Greenwich"
      ]
     },
     "execution_count": 59,
     "metadata": {},
     "output_type": "execute_result"
    }
   ],
   "source": [
    "catchments.crs"
   ]
  },
  {
   "cell_type": "code",
   "execution_count": 50,
   "id": "d8961224-3aa8-4ba5-9e2a-af5b98ee485d",
   "metadata": {},
   "outputs": [
    {
     "data": {
      "text/plain": [
       "<AxesSubplot:>"
      ]
     },
     "execution_count": 50,
     "metadata": {},
     "output_type": "execute_result"
    },
    {
     "data": {
      "image/png": "[encoded data removed]",
      "text/plain": [
       "<Figure size 432x288 with 1 Axes>"
      ]
     },
     "metadata": {
      "needs_background": "light"
     },
     "output_type": "display_data"
    }
   ],
   "source": [
    "catchments.boundary.plot()"
   ]
  },
  {
   "cell_type": "markdown",
   "id": "8134c92a-82cc-4ba0-91dd-11decc0b4c41",
   "metadata": {},
   "source": [
    "We are interested in the Emajõgi catchment, so we will extract it from the rest."
   ]
  },
  {
   "cell_type": "code",
   "execution_count": 60,
   "id": "8bcee4ef-7b8e-475f-8525-378b52b2c55e",
   "metadata": {},
   "outputs": [],
   "source": [
    "ema_catchment = catchments[catchments['nimi'] == 'Emajõgi'].reset_index(drop=True)"
   ]
  },
  {
   "cell_type": "code",
   "execution_count": 61,
   "id": "68d3eacb-57e5-4c73-9600-60b31ffb0aea",
   "metadata": {},
   "outputs": [
    {
     "data": {
      "text/html": [
       "<div>\n",
       "<style scoped>\n",
       "    .dataframe tbody tr th:only-of-type {\n",
       "        vertical-align: middle;\n",
       "    }\n",
       "\n",
       "    .dataframe tbody tr th {\n",
       "        vertical-align: top;\n",
       "    }\n",
       "\n",
       "    .dataframe thead th {\n",
       "        text-align: right;\n",
       "    }\n",
       "</style>\n",
       "<table border=\"1\" class=\"dataframe\">\n",
       "  <thead>\n",
       "    <tr style=\"text-align: right;\">\n",
       "      <th></th>\n",
       "      <th>kood</th>\n",
       "      <th>nimi</th>\n",
       "      <th>Pindala</th>\n",
       "      <th>geometry</th>\n",
       "    </tr>\n",
       "  </thead>\n",
       "  <tbody>\n",
       "    <tr>\n",
       "      <th>0</th>\n",
       "      <td>1023600_1</td>\n",
       "      <td>Emajõgi</td>\n",
       "      <td>9770.24</td>\n",
       "      <td>POLYGON ((632155.000 6564105.000, 632155.000 6...</td>\n",
       "    </tr>\n",
       "  </tbody>\n",
       "</table>\n",
       "</div>"
      ],
      "text/plain": [
       "        kood     nimi  Pindala  \\\n",
       "0  1023600_1  Emajõgi  9770.24   \n",
       "\n",
       "                                            geometry  \n",
       "0  POLYGON ((632155.000 6564105.000, 632155.000 6...  "
      ]
     },
     "execution_count": 61,
     "metadata": {},
     "output_type": "execute_result"
    }
   ],
   "source": [
    "ema_catchment"
   ]
  },
  {
   "cell_type": "markdown",
   "id": "92c0efa6-0804-4dec-b12b-7b9877aef551",
   "metadata": {},
   "source": [
    "As we have chosen our study area to be only within the borders of Tartu County, we will need to clip the catchment with the county borders. We will read in the Estonian counties and check out the CRS."
   ]
  },
  {
   "cell_type": "code",
   "execution_count": 53,
   "id": "b1d87f0d-2ad3-46b9-b1a1-a3fefc7d1d8a",
   "metadata": {},
   "outputs": [
    {
     "data": {
      "text/html": [
       "<div>\n",
       "<style scoped>\n",
       "    .dataframe tbody tr th:only-of-type {\n",
       "        vertical-align: middle;\n",
       "    }\n",
       "\n",
       "    .dataframe tbody tr th {\n",
       "        vertical-align: top;\n",
       "    }\n",
       "\n",
       "    .dataframe thead th {\n",
       "        text-align: right;\n",
       "    }\n",
       "</style>\n",
       "<table border=\"1\" class=\"dataframe\">\n",
       "  <thead>\n",
       "    <tr style=\"text-align: right;\">\n",
       "      <th></th>\n",
       "      <th>MNIMI</th>\n",
       "      <th>MKOOD</th>\n",
       "      <th>geometry</th>\n",
       "    </tr>\n",
       "  </thead>\n",
       "  <tbody>\n",
       "    <tr>\n",
       "      <th>0</th>\n",
       "      <td>Saare maakond</td>\n",
       "      <td>0074</td>\n",
       "      <td>MULTIPOLYGON (((455191.283 6404986.597, 455187...</td>\n",
       "    </tr>\n",
       "    <tr>\n",
       "      <th>1</th>\n",
       "      <td>Viljandi maakond</td>\n",
       "      <td>0084</td>\n",
       "      <td>MULTIPOLYGON (((621049.180 6453125.120, 621052...</td>\n",
       "    </tr>\n",
       "    <tr>\n",
       "      <th>2</th>\n",
       "      <td>Hiiu maakond</td>\n",
       "      <td>0039</td>\n",
       "      <td>MULTIPOLYGON (((418045.779 6506293.321, 418044...</td>\n",
       "    </tr>\n",
       "    <tr>\n",
       "      <th>3</th>\n",
       "      <td>Harju maakond</td>\n",
       "      <td>0037</td>\n",
       "      <td>MULTIPOLYGON (((505059.934 6570389.813, 505061...</td>\n",
       "    </tr>\n",
       "    <tr>\n",
       "      <th>4</th>\n",
       "      <td>Lääne maakond</td>\n",
       "      <td>0056</td>\n",
       "      <td>MULTIPOLYGON (((460628.287 6512871.566, 460630...</td>\n",
       "    </tr>\n",
       "  </tbody>\n",
       "</table>\n",
       "</div>"
      ],
      "text/plain": [
       "              MNIMI MKOOD                                           geometry\n",
       "0     Saare maakond  0074  MULTIPOLYGON (((455191.283 6404986.597, 455187...\n",
       "1  Viljandi maakond  0084  MULTIPOLYGON (((621049.180 6453125.120, 621052...\n",
       "2      Hiiu maakond  0039  MULTIPOLYGON (((418045.779 6506293.321, 418044...\n",
       "3     Harju maakond  0037  MULTIPOLYGON (((505059.934 6570389.813, 505061...\n",
       "4     Lääne maakond  0056  MULTIPOLYGON (((460628.287 6512871.566, 460630..."
      ]
     },
     "execution_count": 53,
     "metadata": {},
     "output_type": "execute_result"
    }
   ],
   "source": [
    "counties = gpd.read_file('data/maakond_20211001.shp')\n",
    "counties.head()"
   ]
  },
  {
   "cell_type": "code",
   "execution_count": 54,
   "id": "71140eda-0741-4115-8bad-2f9681a1ca16",
   "metadata": {},
   "outputs": [
    {
     "data": {
      "text/plain": [
       "<Projected CRS: EPSG:3301>\n",
       "Name: Estonian Coordinate System of 1997\n",
       "Axis Info [cartesian]:\n",
       "- X[north]: Northing (metre)\n",
       "- Y[east]: Easting (metre)\n",
       "Area of Use:\n",
       "- name: Estonia - onshore and offshore.\n",
       "- bounds: (20.37, 57.52, 28.2, 60.0)\n",
       "Coordinate Operation:\n",
       "- name: Estonian National Grid\n",
       "- method: Lambert Conic Conformal (2SP)\n",
       "Datum: Estonia 1997\n",
       "- Ellipsoid: GRS 1980\n",
       "- Prime Meridian: Greenwich"
      ]
     },
     "execution_count": 54,
     "metadata": {},
     "output_type": "execute_result"
    }
   ],
   "source": [
    "counties.crs"
   ]
  },
  {
   "cell_type": "code",
   "execution_count": 55,
   "id": "3e406d40-a5c4-4f45-926a-2587c4627357",
   "metadata": {},
   "outputs": [
    {
     "data": {
      "text/plain": [
       "<AxesSubplot:>"
      ]
     },
     "execution_count": 55,
     "metadata": {},
     "output_type": "execute_result"
    },
    {
     "data": {
      "image/png": "[encoded data removed]",
      "text/plain": [
       "<Figure size 432x288 with 1 Axes>"
      ]
     },
     "metadata": {
      "needs_background": "light"
     },
     "output_type": "display_data"
    }
   ],
   "source": [
    "counties.boundary.plot()"
   ]
  },
  {
   "cell_type": "markdown",
   "id": "110f3e35-5b09-4bc3-aeeb-62d096a5b6a7",
   "metadata": {},
   "source": [
    "We can extract Tartu County like we did before with Emajõgi."
   ]
  },
  {
   "cell_type": "code",
   "execution_count": 43,
   "id": "6fc1abe9-8db5-4584-a318-89294931e67e",
   "metadata": {},
   "outputs": [],
   "source": [
    "tartu = counties[counties['MNIMI'] == 'Tartu maakond'].reset_index(drop=True)"
   ]
  },
  {
   "cell_type": "code",
   "execution_count": 44,
   "id": "6fb1bbed-4ba9-478c-928c-159a72f0f423",
   "metadata": {},
   "outputs": [
    {
     "data": {
      "text/plain": [
       "<AxesSubplot:>"
      ]
     },
     "execution_count": 44,
     "metadata": {},
     "output_type": "execute_result"
    },
    {
     "data": {
      "image/png": "[encoded data removed]",
      "text/plain": [
       "<Figure size 432x288 with 1 Axes>"
      ]
     },
     "metadata": {
      "needs_background": "light"
     },
     "output_type": "display_data"
    }
   ],
   "source": [
    "tartu.plot()"
   ]
  },
  {
   "cell_type": "markdown",
   "id": "db891f4e-6cdf-4e66-9fb4-af6e8a7eb3e4",
   "metadata": {},
   "source": [
    "Now we can clip out the Tartu County section of the Emajõgi catchment and write it into a new shapefile."
   ]
  },
  {
   "cell_type": "code",
   "execution_count": 64,
   "id": "5a492a82-3257-4166-b0dc-f9b0e43142f3",
   "metadata": {},
   "outputs": [],
   "source": [
    "ema_catchment_tartu = gpd.clip(ema_catchment, mask=tartu)"
   ]
  },
  {
   "cell_type": "code",
   "execution_count": 65,
   "id": "f9b08507-c615-40c3-85ad-5d2535803a73",
   "metadata": {},
   "outputs": [
    {
     "data": {
      "text/plain": [
       "<AxesSubplot:>"
      ]
     },
     "execution_count": 65,
     "metadata": {},
     "output_type": "execute_result"
    },
    {
     "data": {
      "image/png": "[encoded data removed]",
      "text/plain": [
       "<Figure size 432x288 with 1 Axes>"
      ]
     },
     "metadata": {
      "needs_background": "light"
     },
     "output_type": "display_data"
    }
   ],
   "source": [
    "ema_catchment_tartu.boundary.plot()"
   ]
  },
  {
   "cell_type": "code",
   "execution_count": 66,
   "id": "7293bc26-9450-4270-acdb-11b4ec186d27",
   "metadata": {},
   "outputs": [],
   "source": [
    "ema_catchment_tartu.to_file('data/ema_catchment_tartu.shp')"
   ]
  },
  {
   "cell_type": "markdown",
   "id": "45f42947-b8cf-4e2f-8ebf-143994f77a24",
   "metadata": {},
   "source": [
    "## Rasterization with geocube"
   ]
  },
  {
   "cell_type": "markdown",
   "id": "01f05a80-0953-4401-9e1b-9d030a6642d1",
   "metadata": {},
   "source": [
    "We are going to use a CSV file of mean annual total precipitation from the period 2016 to 2020 in Estonia. It contains measurements originally provided by the Copernicus ERA5-Land reanalysis product. The data is in WGS84 coordinates.\n",
    "\n",
    "For reading the data we use the Pandas library, which is a very useful library for tabular data processing. In fact, GeoPandas is the geospatial extension of Pandas."
   ]
  },
  {
   "cell_type": "code",
   "execution_count": 3,
   "id": "f87ddfc5-30ca-4899-9c61-ecb9ebcb7f2b",
   "metadata": {},
   "outputs": [],
   "source": [
    "import pandas as pd"
   ]
  },
  {
   "cell_type": "code",
   "execution_count": 9,
   "id": "8f0156da-9ccc-431b-bc39-4abfb1f7c850",
   "metadata": {},
   "outputs": [],
   "source": [
    "df = pd.read_csv('data/precip_mean.csv', sep=',')"
   ]
  },
  {
   "cell_type": "code",
   "execution_count": 10,
   "id": "113a1ec1-7fb7-4415-8342-1c68cbe29a32",
   "metadata": {},
   "outputs": [
    {
     "data": {
      "text/html": [
       "<div>\n",
       "<style scoped>\n",
       "    .dataframe tbody tr th:only-of-type {\n",
       "        vertical-align: middle;\n",
       "    }\n",
       "\n",
       "    .dataframe tbody tr th {\n",
       "        vertical-align: top;\n",
       "    }\n",
       "\n",
       "    .dataframe thead th {\n",
       "        text-align: right;\n",
       "    }\n",
       "</style>\n",
       "<table border=\"1\" class=\"dataframe\">\n",
       "  <thead>\n",
       "    <tr style=\"text-align: right;\">\n",
       "      <th></th>\n",
       "      <th>longitude</th>\n",
       "      <th>latitude</th>\n",
       "      <th>year</th>\n",
       "      <th>tp</th>\n",
       "    </tr>\n",
       "  </thead>\n",
       "  <tbody>\n",
       "    <tr>\n",
       "      <th>0</th>\n",
       "      <td>21.0</td>\n",
       "      <td>60.0</td>\n",
       "      <td>2016</td>\n",
       "      <td>NaN</td>\n",
       "    </tr>\n",
       "    <tr>\n",
       "      <th>1</th>\n",
       "      <td>21.0</td>\n",
       "      <td>60.0</td>\n",
       "      <td>2017</td>\n",
       "      <td>NaN</td>\n",
       "    </tr>\n",
       "    <tr>\n",
       "      <th>2</th>\n",
       "      <td>21.0</td>\n",
       "      <td>60.0</td>\n",
       "      <td>2018</td>\n",
       "      <td>NaN</td>\n",
       "    </tr>\n",
       "    <tr>\n",
       "      <th>3</th>\n",
       "      <td>21.0</td>\n",
       "      <td>60.0</td>\n",
       "      <td>2019</td>\n",
       "      <td>NaN</td>\n",
       "    </tr>\n",
       "    <tr>\n",
       "      <th>4</th>\n",
       "      <td>21.0</td>\n",
       "      <td>60.0</td>\n",
       "      <td>2020</td>\n",
       "      <td>NaN</td>\n",
       "    </tr>\n",
       "  </tbody>\n",
       "</table>\n",
       "</div>"
      ],
      "text/plain": [
       "   longitude  latitude  year  tp\n",
       "0       21.0      60.0  2016 NaN\n",
       "1       21.0      60.0  2017 NaN\n",
       "2       21.0      60.0  2018 NaN\n",
       "3       21.0      60.0  2019 NaN\n",
       "4       21.0      60.0  2020 NaN"
      ]
     },
     "execution_count": 10,
     "metadata": {},
     "output_type": "execute_result"
    }
   ],
   "source": [
    "df.head()"
   ]
  },
  {
   "cell_type": "markdown",
   "id": "1e1df4c4-1118-457b-a289-7664a0bf2535",
   "metadata": {},
   "source": [
    "Currently the data is in a regular DataFrame without spatial information. For rasterization we first need to convert it into a GeoDataFrame and create points from longitude and latitude coordinates."
   ]
  },
  {
   "cell_type": "code",
   "execution_count": 12,
   "id": "0389874b-5597-4ff8-a1aa-9d9076e5a313",
   "metadata": {},
   "outputs": [],
   "source": [
    "gdf = gpd.GeoDataFrame(df, crs=4326, geometry=gpd.points_from_xy(df['longitude'], df['latitude']))"
   ]
  },
  {
   "cell_type": "code",
   "execution_count": 13,
   "id": "a390c83e-e046-4bb6-aaaf-648df66e12bc",
   "metadata": {},
   "outputs": [
    {
     "data": {
      "text/html": [
       "<div>\n",
       "<style scoped>\n",
       "    .dataframe tbody tr th:only-of-type {\n",
       "        vertical-align: middle;\n",
       "    }\n",
       "\n",
       "    .dataframe tbody tr th {\n",
       "        vertical-align: top;\n",
       "    }\n",
       "\n",
       "    .dataframe thead th {\n",
       "        text-align: right;\n",
       "    }\n",
       "</style>\n",
       "<table border=\"1\" class=\"dataframe\">\n",
       "  <thead>\n",
       "    <tr style=\"text-align: right;\">\n",
       "      <th></th>\n",
       "      <th>longitude</th>\n",
       "      <th>latitude</th>\n",
       "      <th>year</th>\n",
       "      <th>tp</th>\n",
       "      <th>geometry</th>\n",
       "    </tr>\n",
       "  </thead>\n",
       "  <tbody>\n",
       "    <tr>\n",
       "      <th>0</th>\n",
       "      <td>21.0</td>\n",
       "      <td>60.0</td>\n",
       "      <td>2016</td>\n",
       "      <td>NaN</td>\n",
       "      <td>POINT (21.00000 60.00000)</td>\n",
       "    </tr>\n",
       "    <tr>\n",
       "      <th>1</th>\n",
       "      <td>21.0</td>\n",
       "      <td>60.0</td>\n",
       "      <td>2017</td>\n",
       "      <td>NaN</td>\n",
       "      <td>POINT (21.00000 60.00000)</td>\n",
       "    </tr>\n",
       "    <tr>\n",
       "      <th>2</th>\n",
       "      <td>21.0</td>\n",
       "      <td>60.0</td>\n",
       "      <td>2018</td>\n",
       "      <td>NaN</td>\n",
       "      <td>POINT (21.00000 60.00000)</td>\n",
       "    </tr>\n",
       "    <tr>\n",
       "      <th>3</th>\n",
       "      <td>21.0</td>\n",
       "      <td>60.0</td>\n",
       "      <td>2019</td>\n",
       "      <td>NaN</td>\n",
       "      <td>POINT (21.00000 60.00000)</td>\n",
       "    </tr>\n",
       "    <tr>\n",
       "      <th>4</th>\n",
       "      <td>21.0</td>\n",
       "      <td>60.0</td>\n",
       "      <td>2020</td>\n",
       "      <td>NaN</td>\n",
       "      <td>POINT (21.00000 60.00000)</td>\n",
       "    </tr>\n",
       "  </tbody>\n",
       "</table>\n",
       "</div>"
      ],
      "text/plain": [
       "   longitude  latitude  year  tp                   geometry\n",
       "0       21.0      60.0  2016 NaN  POINT (21.00000 60.00000)\n",
       "1       21.0      60.0  2017 NaN  POINT (21.00000 60.00000)\n",
       "2       21.0      60.0  2018 NaN  POINT (21.00000 60.00000)\n",
       "3       21.0      60.0  2019 NaN  POINT (21.00000 60.00000)\n",
       "4       21.0      60.0  2020 NaN  POINT (21.00000 60.00000)"
      ]
     },
     "execution_count": 13,
     "metadata": {},
     "output_type": "execute_result"
    }
   ],
   "source": [
    "gdf.head()"
   ]
  },
  {
   "cell_type": "markdown",
   "id": "be3e9534-5b28-454c-8e96-89ad5704906a",
   "metadata": {},
   "source": [
    "## Rasterization with Geocube"
   ]
  },
  {
   "cell_type": "markdown",
   "id": "81a64760-7b00-48d4-aa3d-9e1122501925",
   "metadata": {},
   "source": [
    "We can now rasterize the measurements. We will use the Geocube library for this purpose. The function make_geocube allows us to convert a GeoDataFrame into a raster grid.\n",
    "\n",
    "We need to tell the function, which column of the GeoDataFrame will be used as measurements and assign a suitable output resolution. In our case, we know that the ERA5-Land product originally had a coarse resolution of 0.1 degrees in WGS84, so that is what we will use."
   ]
  },
  {
   "cell_type": "code",
   "execution_count": 15,
   "id": "5500ea44-6b16-4358-ad06-699a6cef61a5",
   "metadata": {},
   "outputs": [],
   "source": [
    "from geocube.api.core import make_geocube\n",
    "from geocube.rasterize import rasterize_points_griddata"
   ]
  },
  {
   "cell_type": "code",
   "execution_count": 16,
   "id": "907a6b34-e966-498b-9d48-9abfa4af76e0",
   "metadata": {},
   "outputs": [],
   "source": [
    "grid = make_geocube(gdf, measurements=['tp'], resolution=(-0.1, 0.1), rasterize_function=rasterize_points_griddata)"
   ]
  },
  {
   "cell_type": "markdown",
   "id": "b898235d-c8be-492a-801b-9836a4379104",
   "metadata": {},
   "source": [
    "The output is an Xarray dataset. Xarray is a Python library useful for dealing with some specific types of gridded data, e.g. NetCDF or GRIB files."
   ]
  },
  {
   "cell_type": "code",
   "execution_count": 17,
   "id": "cd55bd89-169f-4411-b301-449f95e2116b",
   "metadata": {},
   "outputs": [
    {
     "data": {
      "text/html": [
       "<div><svg style=\"position: absolute; width: 0; height: 0; overflow: hidden\">\n",
       "<defs>\n",
       "<symbol id=\"icon-database\" viewBox=\"0 0 32 32\">\n",
       "<path d=\"M16 0c-8.837 0-16 2.239-16 5v4c0 2.761 7.163 5 16 5s16-2.239 16-5v-4c0-2.761-7.163-5-16-5z\"></path>\n",
       "<path d=\"M16 17c-8.837 0-16-2.239-16-5v6c0 2.761 7.163 5 16 5s16-2.239 16-5v-6c0 2.761-7.163 5-16 5z\"></path>\n",
       "<path d=\"M16 26c-8.837 0-16-2.239-16-5v6c0 2.761 7.163 5 16 5s16-2.239 16-5v-6c0 2.761-7.163 5-16 5z\"></path>\n",
       "</symbol>\n",
       "<symbol id=\"icon-file-text2\" viewBox=\"0 0 32 32\">\n",
       "<path d=\"M28.681 7.159c-0.694-0.947-1.662-2.053-2.724-3.116s-2.169-2.030-3.116-2.724c-1.612-1.182-2.393-1.319-2.841-1.319h-15.5c-1.378 0-2.5 1.121-2.5 2.5v27c0 1.378 1.122 2.5 2.5 2.5h23c1.378 0 2.5-1.122 2.5-2.5v-19.5c0-0.448-0.137-1.23-1.319-2.841zM24.543 5.457c0.959 0.959 1.712 1.825 2.268 2.543h-4.811v-4.811c0.718 0.556 1.584 1.309 2.543 2.268zM28 29.5c0 0.271-0.229 0.5-0.5 0.5h-23c-0.271 0-0.5-0.229-0.5-0.5v-27c0-0.271 0.229-0.5 0.5-0.5 0 0 15.499-0 15.5 0v7c0 0.552 0.448 1 1 1h7v19.5z\"></path>\n",
       "<path d=\"M23 26h-14c-0.552 0-1-0.448-1-1s0.448-1 1-1h14c0.552 0 1 0.448 1 1s-0.448 1-1 1z\"></path>\n",
       "<path d=\"M23 22h-14c-0.552 0-1-0.448-1-1s0.448-1 1-1h14c0.552 0 1 0.448 1 1s-0.448 1-1 1z\"></path>\n",
       "<path d=\"M23 18h-14c-0.552 0-1-0.448-1-1s0.448-1 1-1h14c0.552 0 1 0.448 1 1s-0.448 1-1 1z\"></path>\n",
       "</symbol>\n",
       "</defs>\n",
       "</svg>\n",
       "<style>/* CSS stylesheet for displaying xarray objects in jupyterlab.\n",
       " *\n",
       " */\n",
       "\n",
       ":root {\n",
       "  --xr-font-color0: var(--jp-content-font-color0, rgba(0, 0, 0, 1));\n",
       "  --xr-font-color2: var(--jp-content-font-color2, rgba(0, 0, 0, 0.54));\n",
       "  --xr-font-color3: var(--jp-content-font-color3, rgba(0, 0, 0, 0.38));\n",
       "  --xr-border-color: var(--jp-border-color2, #e0e0e0);\n",
       "  --xr-disabled-color: var(--jp-layout-color3, #bdbdbd);\n",
       "  --xr-background-color: var(--jp-layout-color0, white);\n",
       "  --xr-background-color-row-even: var(--jp-layout-color1, white);\n",
       "  --xr-background-color-row-odd: var(--jp-layout-color2, #eeeeee);\n",
       "}\n",
       "\n",
       "html[theme=dark],\n",
       "body.vscode-dark {\n",
       "  --xr-font-color0: rgba(255, 255, 255, 1);\n",
       "  --xr-font-color2: rgba(255, 255, 255, 0.54);\n",
       "  --xr-font-color3: rgba(255, 255, 255, 0.38);\n",
       "  --xr-border-color: #1F1F1F;\n",
       "  --xr-disabled-color: #515151;\n",
       "  --xr-background-color: #111111;\n",
       "  --xr-background-color-row-even: #111111;\n",
       "  --xr-background-color-row-odd: #313131;\n",
       "}\n",
       "\n",
       ".xr-wrap {\n",
       "  display: block;\n",
       "  min-width: 300px;\n",
       "  max-width: 700px;\n",
       "}\n",
       "\n",
       ".xr-text-repr-fallback {\n",
       "  /* fallback to plain text repr when CSS is not injected (untrusted notebook) */\n",
       "  display: none;\n",
       "}\n",
       "\n",
       ".xr-header {\n",
       "  padding-top: 6px;\n",
       "  padding-bottom: 6px;\n",
       "  margin-bottom: 4px;\n",
       "  border-bottom: solid 1px var(--xr-border-color);\n",
       "}\n",
       "\n",
       ".xr-header > div,\n",
       ".xr-header > ul {\n",
       "  display: inline;\n",
       "  margin-top: 0;\n",
       "  margin-bottom: 0;\n",
       "}\n",
       "\n",
       ".xr-obj-type,\n",
       ".xr-array-name {\n",
       "  margin-left: 2px;\n",
       "  margin-right: 10px;\n",
       "}\n",
       "\n",
       ".xr-obj-type {\n",
       "  color: var(--xr-font-color2);\n",
       "}\n",
       "\n",
       ".xr-sections {\n",
       "  padding-left: 0 !important;\n",
       "  display: grid;\n",
       "  grid-template-columns: 150px auto auto 1fr 20px 20px;\n",
       "}\n",
       "\n",
       ".xr-section-item {\n",
       "  display: contents;\n",
       "}\n",
       "\n",
       ".xr-section-item input {\n",
       "  display: none;\n",
       "}\n",
       "\n",
       ".xr-section-item input + label {\n",
       "  color: var(--xr-disabled-color);\n",
       "}\n",
       "\n",
       ".xr-section-item input:enabled + label {\n",
       "  cursor: pointer;\n",
       "  color: var(--xr-font-color2);\n",
       "}\n",
       "\n",
       ".xr-section-item input:enabled + label:hover {\n",
       "  color: var(--xr-font-color0);\n",
       "}\n",
       "\n",
       ".xr-section-summary {\n",
       "  grid-column: 1;\n",
       "  color: var(--xr-font-color2);\n",
       "  font-weight: 500;\n",
       "}\n",
       "\n",
       ".xr-section-summary > span {\n",
       "  display: inline-block;\n",
       "  padding-left: 0.5em;\n",
       "}\n",
       "\n",
       ".xr-section-summary-in:disabled + label {\n",
       "  color: var(--xr-font-color2);\n",
       "}\n",
       "\n",
       ".xr-section-summary-in + label:before {\n",
       "  display: inline-block;\n",
       "  content: '►';\n",
       "  font-size: 11px;\n",
       "  width: 15px;\n",
       "  text-align: center;\n",
       "}\n",
       "\n",
       ".xr-section-summary-in:disabled + label:before {\n",
       "  color: var(--xr-disabled-color);\n",
       "}\n",
       "\n",
       ".xr-section-summary-in:checked + label:before {\n",
       "  content: '▼';\n",
       "}\n",
       "\n",
       ".xr-section-summary-in:checked + label > span {\n",
       "  display: none;\n",
       "}\n",
       "\n",
       ".xr-section-summary,\n",
       ".xr-section-inline-details {\n",
       "  padding-top: 4px;\n",
       "  padding-bottom: 4px;\n",
       "}\n",
       "\n",
       ".xr-section-inline-details {\n",
       "  grid-column: 2 / -1;\n",
       "}\n",
       "\n",
       ".xr-section-details {\n",
       "  display: none;\n",
       "  grid-column: 1 / -1;\n",
       "  margin-bottom: 5px;\n",
       "}\n",
       "\n",
       ".xr-section-summary-in:checked ~ .xr-section-details {\n",
       "  display: contents;\n",
       "}\n",
       "\n",
       ".xr-array-wrap {\n",
       "  grid-column: 1 / -1;\n",
       "  display: grid;\n",
       "  grid-template-columns: 20px auto;\n",
       "}\n",
       "\n",
       ".xr-array-wrap > label {\n",
       "  grid-column: 1;\n",
       "  vertical-align: top;\n",
       "}\n",
       "\n",
       ".xr-preview {\n",
       "  color: var(--xr-font-color3);\n",
       "}\n",
       "\n",
       ".xr-array-preview,\n",
       ".xr-array-data {\n",
       "  padding: 0 5px !important;\n",
       "  grid-column: 2;\n",
       "}\n",
       "\n",
       ".xr-array-data,\n",
       ".xr-array-in:checked ~ .xr-array-preview {\n",
       "  display: none;\n",
       "}\n",
       "\n",
       ".xr-array-in:checked ~ .xr-array-data,\n",
       ".xr-array-preview {\n",
       "  display: inline-block;\n",
       "}\n",
       "\n",
       ".xr-dim-list {\n",
       "  display: inline-block !important;\n",
       "  list-style: none;\n",
       "  padding: 0 !important;\n",
       "  margin: 0;\n",
       "}\n",
       "\n",
       ".xr-dim-list li {\n",
       "  display: inline-block;\n",
       "  padding: 0;\n",
       "  margin: 0;\n",
       "}\n",
       "\n",
       ".xr-dim-list:before {\n",
       "  content: '(';\n",
       "}\n",
       "\n",
       ".xr-dim-list:after {\n",
       "  content: ')';\n",
       "}\n",
       "\n",
       ".xr-dim-list li:not(:last-child):after {\n",
       "  content: ',';\n",
       "  padding-right: 5px;\n",
       "}\n",
       "\n",
       ".xr-has-index {\n",
       "  font-weight: bold;\n",
       "}\n",
       "\n",
       ".xr-var-list,\n",
       ".xr-var-item {\n",
       "  display: contents;\n",
       "}\n",
       "\n",
       ".xr-var-item > div,\n",
       ".xr-var-item label,\n",
       ".xr-var-item > .xr-var-name span {\n",
       "  background-color: var(--xr-background-color-row-even);\n",
       "  margin-bottom: 0;\n",
       "}\n",
       "\n",
       ".xr-var-item > .xr-var-name:hover span {\n",
       "  padding-right: 5px;\n",
       "}\n",
       "\n",
       ".xr-var-list > li:nth-child(odd) > div,\n",
       ".xr-var-list > li:nth-child(odd) > label,\n",
       ".xr-var-list > li:nth-child(odd) > .xr-var-name span {\n",
       "  background-color: var(--xr-background-color-row-odd);\n",
       "}\n",
       "\n",
       ".xr-var-name {\n",
       "  grid-column: 1;\n",
       "}\n",
       "\n",
       ".xr-var-dims {\n",
       "  grid-column: 2;\n",
       "}\n",
       "\n",
       ".xr-var-dtype {\n",
       "  grid-column: 3;\n",
       "  text-align: right;\n",
       "  color: var(--xr-font-color2);\n",
       "}\n",
       "\n",
       ".xr-var-preview {\n",
       "  grid-column: 4;\n",
       "}\n",
       "\n",
       ".xr-var-name,\n",
       ".xr-var-dims,\n",
       ".xr-var-dtype,\n",
       ".xr-preview,\n",
       ".xr-attrs dt {\n",
       "  white-space: nowrap;\n",
       "  overflow: hidden;\n",
       "  text-overflow: ellipsis;\n",
       "  padding-right: 10px;\n",
       "}\n",
       "\n",
       ".xr-var-name:hover,\n",
       ".xr-var-dims:hover,\n",
       ".xr-var-dtype:hover,\n",
       ".xr-attrs dt:hover {\n",
       "  overflow: visible;\n",
       "  width: auto;\n",
       "  z-index: 1;\n",
       "}\n",
       "\n",
       ".xr-var-attrs,\n",
       ".xr-var-data {\n",
       "  display: none;\n",
       "  background-color: var(--xr-background-color) !important;\n",
       "  padding-bottom: 5px !important;\n",
       "}\n",
       "\n",
       ".xr-var-attrs-in:checked ~ .xr-var-attrs,\n",
       ".xr-var-data-in:checked ~ .xr-var-data {\n",
       "  display: block;\n",
       "}\n",
       "\n",
       ".xr-var-data > table {\n",
       "  float: right;\n",
       "}\n",
       "\n",
       ".xr-var-name span,\n",
       ".xr-var-data,\n",
       ".xr-attrs {\n",
       "  padding-left: 25px !important;\n",
       "}\n",
       "\n",
       ".xr-attrs,\n",
       ".xr-var-attrs,\n",
       ".xr-var-data {\n",
       "  grid-column: 1 / -1;\n",
       "}\n",
       "\n",
       "dl.xr-attrs {\n",
       "  padding: 0;\n",
       "  margin: 0;\n",
       "  display: grid;\n",
       "  grid-template-columns: 125px auto;\n",
       "}\n",
       "\n",
       ".xr-attrs dt,\n",
       ".xr-attrs dd {\n",
       "  padding: 0;\n",
       "  margin: 0;\n",
       "  float: left;\n",
       "  padding-right: 10px;\n",
       "  width: auto;\n",
       "}\n",
       "\n",
       ".xr-attrs dt {\n",
       "  font-weight: normal;\n",
       "  grid-column: 1;\n",
       "}\n",
       "\n",
       ".xr-attrs dt:hover span {\n",
       "  display: inline-block;\n",
       "  background: var(--xr-background-color);\n",
       "  padding-right: 10px;\n",
       "}\n",
       "\n",
       ".xr-attrs dd {\n",
       "  grid-column: 2;\n",
       "  white-space: pre-wrap;\n",
       "  word-break: break-all;\n",
       "}\n",
       "\n",
       ".xr-icon-database,\n",
       ".xr-icon-file-text2 {\n",
       "  display: inline-block;\n",
       "  vertical-align: middle;\n",
       "  width: 1em;\n",
       "  height: 1.5em !important;\n",
       "  stroke-width: 0;\n",
       "  stroke: currentColor;\n",
       "  fill: currentColor;\n",
       "}\n",
       "</style><pre class='xr-text-repr-fallback'>&lt;xarray.Dataset&gt;\n",
       "Dimensions:      (y: 30, x: 80)\n",
       "Coordinates:\n",
       "  * y            (y) float64 59.95 59.85 59.75 59.65 ... 57.35 57.25 57.15 57.05\n",
       "  * x            (x) float64 21.05 21.15 21.25 21.35 ... 28.65 28.75 28.85 28.95\n",
       "    spatial_ref  int32 0\n",
       "Data variables:\n",
       "    tp           (y, x) float64 nan nan nan nan nan ... 559.9 693.0 567.0 695.0</pre><div class='xr-wrap' hidden><div class='xr-header'><div class='xr-obj-type'>xarray.Dataset</div></div><ul class='xr-sections'><li class='xr-section-item'><input id='section-cc96728c-cbc9-43c4-b993-96a499bad998' class='xr-section-summary-in' type='checkbox' disabled ><label for='section-cc96728c-cbc9-43c4-b993-96a499bad998' class='xr-section-summary'  title='Expand/collapse section'>Dimensions:</label><div class='xr-section-inline-details'><ul class='xr-dim-list'><li><span class='xr-has-index'>y</span>: 30</li><li><span class='xr-has-index'>x</span>: 80</li></ul></div><div class='xr-section-details'></div></li><li class='xr-section-item'><input id='section-5f39651d-bdfd-44b2-b907-8a8456d1feb0' class='xr-section-summary-in' type='checkbox'  checked><label for='section-5f39651d-bdfd-44b2-b907-8a8456d1feb0' class='xr-section-summary' >Coordinates: <span>(3)</span></label><div class='xr-section-inline-details'></div><div class='xr-section-details'><ul class='xr-var-list'><li class='xr-var-item'><div class='xr-var-name'><span class='xr-has-index'>y</span></div><div class='xr-var-dims'>(y)</div><div class='xr-var-dtype'>float64</div><div class='xr-var-preview xr-preview'>59.95 59.85 59.75 ... 57.15 57.05</div><input id='attrs-4e7d5d70-02ad-475c-a525-7f9b3ef759e7' class='xr-var-attrs-in' type='checkbox' ><label for='attrs-4e7d5d70-02ad-475c-a525-7f9b3ef759e7' title='Show/Hide attributes'><svg class='icon xr-icon-file-text2'><use xlink:href='#icon-file-text2'></use></svg></label><input id='data-c906d8f4-b5db-4267-a098-303070ba2987' class='xr-var-data-in' type='checkbox'><label for='data-c906d8f4-b5db-4267-a098-303070ba2987' title='Show/Hide data repr'><svg class='icon xr-icon-database'><use xlink:href='#icon-database'></use></svg></label><div class='xr-var-attrs'><dl class='xr-attrs'><dt><span>axis :</span></dt><dd>Y</dd><dt><span>long_name :</span></dt><dd>latitude</dd><dt><span>standard_name :</span></dt><dd>latitude</dd><dt><span>units :</span></dt><dd>degrees_north</dd></dl></div><div class='xr-var-data'><pre>array([59.95, 59.85, 59.75, 59.65, 59.55, 59.45, 59.35, 59.25, 59.15, 59.05,\n",
       "       58.95, 58.85, 58.75, 58.65, 58.55, 58.45, 58.35, 58.25, 58.15, 58.05,\n",
       "       57.95, 57.85, 57.75, 57.65, 57.55, 57.45, 57.35, 57.25, 57.15, 57.05])</pre></div></li><li class='xr-var-item'><div class='xr-var-name'><span class='xr-has-index'>x</span></div><div class='xr-var-dims'>(x)</div><div class='xr-var-dtype'>float64</div><div class='xr-var-preview xr-preview'>21.05 21.15 21.25 ... 28.85 28.95</div><input id='attrs-007d3c58-3c62-4583-82d4-1ea0c3f825d8' class='xr-var-attrs-in' type='checkbox' ><label for='attrs-007d3c58-3c62-4583-82d4-1ea0c3f825d8' title='Show/Hide attributes'><svg class='icon xr-icon-file-text2'><use xlink:href='#icon-file-text2'></use></svg></label><input id='data-c5dd742c-00e4-46df-b0aa-75e609e31e4a' class='xr-var-data-in' type='checkbox'><label for='data-c5dd742c-00e4-46df-b0aa-75e609e31e4a' title='Show/Hide data repr'><svg class='icon xr-icon-database'><use xlink:href='#icon-database'></use></svg></label><div class='xr-var-attrs'><dl class='xr-attrs'><dt><span>axis :</span></dt><dd>X</dd><dt><span>long_name :</span></dt><dd>longitude</dd><dt><span>standard_name :</span></dt><dd>longitude</dd><dt><span>units :</span></dt><dd>degrees_east</dd></dl></div><div class='xr-var-data'><pre>array([21.05, 21.15, 21.25, 21.35, 21.45, 21.55, 21.65, 21.75, 21.85, 21.95,\n",
       "       22.05, 22.15, 22.25, 22.35, 22.45, 22.55, 22.65, 22.75, 22.85, 22.95,\n",
       "       23.05, 23.15, 23.25, 23.35, 23.45, 23.55, 23.65, 23.75, 23.85, 23.95,\n",
       "       24.05, 24.15, 24.25, 24.35, 24.45, 24.55, 24.65, 24.75, 24.85, 24.95,\n",
       "       25.05, 25.15, 25.25, 25.35, 25.45, 25.55, 25.65, 25.75, 25.85, 25.95,\n",
       "       26.05, 26.15, 26.25, 26.35, 26.45, 26.55, 26.65, 26.75, 26.85, 26.95,\n",
       "       27.05, 27.15, 27.25, 27.35, 27.45, 27.55, 27.65, 27.75, 27.85, 27.95,\n",
       "       28.05, 28.15, 28.25, 28.35, 28.45, 28.55, 28.65, 28.75, 28.85, 28.95])</pre></div></li><li class='xr-var-item'><div class='xr-var-name'><span>spatial_ref</span></div><div class='xr-var-dims'>()</div><div class='xr-var-dtype'>int32</div><div class='xr-var-preview xr-preview'>0</div><input id='attrs-ae28c209-af8d-4527-84f2-9a5180138516' class='xr-var-attrs-in' type='checkbox' ><label for='attrs-ae28c209-af8d-4527-84f2-9a5180138516' title='Show/Hide attributes'><svg class='icon xr-icon-file-text2'><use xlink:href='#icon-file-text2'></use></svg></label><input id='data-a5f061d8-be37-4a5e-930c-a0660fa5df00' class='xr-var-data-in' type='checkbox'><label for='data-a5f061d8-be37-4a5e-930c-a0660fa5df00' title='Show/Hide data repr'><svg class='icon xr-icon-database'><use xlink:href='#icon-database'></use></svg></label><div class='xr-var-attrs'><dl class='xr-attrs'><dt><span>crs_wkt :</span></dt><dd>GEOGCS[&quot;WGS 84&quot;,DATUM[&quot;WGS_1984&quot;,SPHEROID[&quot;WGS 84&quot;,6378137,298.257223563]],PRIMEM[&quot;Greenwich&quot;,0],UNIT[&quot;degree&quot;,0.0174532925199433,AUTHORITY[&quot;EPSG&quot;,&quot;9122&quot;]],AXIS[&quot;Latitude&quot;,NORTH],AXIS[&quot;Longitude&quot;,EAST],AUTHORITY[&quot;EPSG&quot;,&quot;4326&quot;]]</dd><dt><span>semi_major_axis :</span></dt><dd>6378137.0</dd><dt><span>semi_minor_axis :</span></dt><dd>6356752.314245179</dd><dt><span>inverse_flattening :</span></dt><dd>298.257223563</dd><dt><span>reference_ellipsoid_name :</span></dt><dd>WGS 84</dd><dt><span>longitude_of_prime_meridian :</span></dt><dd>0.0</dd><dt><span>prime_meridian_name :</span></dt><dd>Greenwich</dd><dt><span>geographic_crs_name :</span></dt><dd>WGS 84</dd><dt><span>grid_mapping_name :</span></dt><dd>latitude_longitude</dd><dt><span>spatial_ref :</span></dt><dd>GEOGCS[&quot;WGS 84&quot;,DATUM[&quot;WGS_1984&quot;,SPHEROID[&quot;WGS 84&quot;,6378137,298.257223563]],PRIMEM[&quot;Greenwich&quot;,0],UNIT[&quot;degree&quot;,0.0174532925199433,AUTHORITY[&quot;EPSG&quot;,&quot;9122&quot;]],AXIS[&quot;Latitude&quot;,NORTH],AXIS[&quot;Longitude&quot;,EAST],AUTHORITY[&quot;EPSG&quot;,&quot;4326&quot;]]</dd></dl></div><div class='xr-var-data'><pre>array(0)</pre></div></li></ul></div></li><li class='xr-section-item'><input id='section-168dbf70-1d24-4b06-a447-ef1a611e9927' class='xr-section-summary-in' type='checkbox'  checked><label for='section-168dbf70-1d24-4b06-a447-ef1a611e9927' class='xr-section-summary' >Data variables: <span>(1)</span></label><div class='xr-section-inline-details'></div><div class='xr-section-details'><ul class='xr-var-list'><li class='xr-var-item'><div class='xr-var-name'><span>tp</span></div><div class='xr-var-dims'>(y, x)</div><div class='xr-var-dtype'>float64</div><div class='xr-var-preview xr-preview'>nan nan nan ... 693.0 567.0 695.0</div><input id='attrs-6a8ae331-8c34-46c1-9998-9608775a0a2a' class='xr-var-attrs-in' type='checkbox' ><label for='attrs-6a8ae331-8c34-46c1-9998-9608775a0a2a' title='Show/Hide attributes'><svg class='icon xr-icon-file-text2'><use xlink:href='#icon-file-text2'></use></svg></label><input id='data-9c1c69a7-0f7a-4796-ae86-eac8761fc69e' class='xr-var-data-in' type='checkbox'><label for='data-9c1c69a7-0f7a-4796-ae86-eac8761fc69e' title='Show/Hide data repr'><svg class='icon xr-icon-database'><use xlink:href='#icon-database'></use></svg></label><div class='xr-var-attrs'><dl class='xr-attrs'><dt><span>name :</span></dt><dd>tp</dd><dt><span>long_name :</span></dt><dd>tp</dd><dt><span>_FillValue :</span></dt><dd>nan</dd></dl></div><div class='xr-var-data'><pre>array([[      nan,       nan,       nan, ...,       nan,       nan,\n",
       "              nan],\n",
       "       [      nan,       nan,       nan, ..., 809.21936, 819.31793,\n",
       "        711.50745],\n",
       "       [      nan,       nan,       nan, ..., 997.55963, 678.0403 ,\n",
       "        711.50745],\n",
       "       ...,\n",
       "       [      nan,       nan,       nan, ..., 685.55194, 686.64825,\n",
       "        921.60175],\n",
       "       [      nan,       nan,       nan, ..., 565.52026, 686.64825,\n",
       "        921.60175],\n",
       "       [      nan,       nan,       nan, ..., 692.95044, 567.0212 ,\n",
       "        694.9529 ]])</pre></div></li></ul></div></li><li class='xr-section-item'><input id='section-471b29e8-a095-4ed5-86b9-c4abb5ca2dc9' class='xr-section-summary-in' type='checkbox' disabled ><label for='section-471b29e8-a095-4ed5-86b9-c4abb5ca2dc9' class='xr-section-summary'  title='Expand/collapse section'>Attributes: <span>(0)</span></label><div class='xr-section-inline-details'></div><div class='xr-section-details'><dl class='xr-attrs'></dl></div></li></ul></div></div>"
      ],
      "text/plain": [
       "<xarray.Dataset>\n",
       "Dimensions:      (y: 30, x: 80)\n",
       "Coordinates:\n",
       "  * y            (y) float64 59.95 59.85 59.75 59.65 ... 57.35 57.25 57.15 57.05\n",
       "  * x            (x) float64 21.05 21.15 21.25 21.35 ... 28.65 28.75 28.85 28.95\n",
       "    spatial_ref  int32 0\n",
       "Data variables:\n",
       "    tp           (y, x) float64 nan nan nan nan nan ... 559.9 693.0 567.0 695.0"
      ]
     },
     "execution_count": 17,
     "metadata": {},
     "output_type": "execute_result"
    }
   ],
   "source": [
    "grid"
   ]
  },
  {
   "cell_type": "markdown",
   "id": "2baf93d7-998f-4ffe-a0d7-1c66e27971c5",
   "metadata": {},
   "source": [
    "Now we can export the grid into a GeoTIFF file."
   ]
  },
  {
   "cell_type": "code",
   "execution_count": 27,
   "id": "00c5f48b-13ad-424a-be8c-599e546529c4",
   "metadata": {},
   "outputs": [],
   "source": [
    "grid['tp'].rio.to_raster('data/precip_mean_4326.tif')"
   ]
  },
  {
   "cell_type": "markdown",
   "id": "622a32b4-edf9-4137-af66-a570fea7da21",
   "metadata": {},
   "source": [
    "## Reproject raster with Rasterio"
   ]
  },
  {
   "cell_type": "markdown",
   "id": "34ca310a-688c-4c22-bc95-bb9544d224e9",
   "metadata": {},
   "source": [
    "Rasterio is a library used for processing raster data. It is often useful when you need to reproject or modify a raster file in any other way. It can also be used to visualize raster data in Python."
   ]
  },
  {
   "cell_type": "code",
   "execution_count": 19,
   "id": "93bf6ebb-07a5-46f9-9937-d80f6defe97c",
   "metadata": {},
   "outputs": [],
   "source": [
    "import rasterio"
   ]
  },
  {
   "cell_type": "code",
   "execution_count": 28,
   "id": "769ea088-cf41-4417-9edb-af63fa6676f1",
   "metadata": {},
   "outputs": [],
   "source": [
    "dataset = rasterio.open('data/precip_mean_4326.tif')"
   ]
  },
  {
   "cell_type": "code",
   "execution_count": 29,
   "id": "b3848237-bf28-45c2-8bc0-cb21348de500",
   "metadata": {},
   "outputs": [
    {
     "data": {
      "text/plain": [
       "CRS.from_epsg(4326)"
      ]
     },
     "execution_count": 29,
     "metadata": {},
     "output_type": "execute_result"
    }
   ],
   "source": [
    "dataset.crs"
   ]
  },
  {
   "cell_type": "markdown",
   "id": "fb2e1990-e18a-4b3d-8186-b0a475a6ce61",
   "metadata": {},
   "source": [
    "For a basic plot of the data we can use the show function from Rasterio."
   ]
  },
  {
   "cell_type": "code",
   "execution_count": 30,
   "id": "d924ee0f-8290-4b00-baa3-cb7828ff555e",
   "metadata": {},
   "outputs": [],
   "source": [
    "from rasterio.plot import show"
   ]
  },
  {
   "cell_type": "code",
   "execution_count": 31,
   "id": "5d7e9faf-e1a8-46bc-af43-97bdd9f9a252",
   "metadata": {},
   "outputs": [
    {
     "data": {
      "image/png": "[encoded data removed]",
      "text/plain": [
       "<Figure size 432x288 with 1 Axes>"
      ]
     },
     "metadata": {
      "needs_background": "light"
     },
     "output_type": "display_data"
    },
    {
     "data": {
      "text/plain": [
       "<AxesSubplot:>"
      ]
     },
     "execution_count": 31,
     "metadata": {},
     "output_type": "execute_result"
    }
   ],
   "source": [
    "show(dataset)"
   ]
  },
  {
   "cell_type": "markdown",
   "id": "0dc7bb36-3176-4122-8b4f-f877aa1154a8",
   "metadata": {},
   "source": [
    "The show_hist command allows us to quickly check out the distribution of annual mean precipitation values in the Estonian region."
   ]
  },
  {
   "cell_type": "code",
   "execution_count": 32,
   "id": "5eae9d4d-9256-4476-bc41-b4a0d5b3ace2",
   "metadata": {},
   "outputs": [],
   "source": [
    "from rasterio.plot import show_hist"
   ]
  },
  {
   "cell_type": "code",
   "execution_count": 33,
   "id": "027c2ec3-f7b6-4306-a722-b4c9858f2419",
   "metadata": {},
   "outputs": [
    {
     "data": {
      "image/png": "[encoded data removed]",
      "text/plain": [
       "<Figure size 432x288 with 1 Axes>"
      ]
     },
     "metadata": {
      "needs_background": "light"
     },
     "output_type": "display_data"
    }
   ],
   "source": [
    "show_hist(dataset)"
   ]
  },
  {
   "cell_type": "markdown",
   "id": "66e65931-f84e-4277-9051-f2d14029a0f4",
   "metadata": {},
   "source": [
    "Next we will reproject the raster into the Estonian CRS and export it as a new GeoTIFF. We will use a few helper function from Rasterio for this part.\n",
    "\n",
    "The function calculate_default_transform will help us get the transformation algorithm needed for converting the data from EPSG:4326 to EPSG:3301. Function reproject will take the source data in its original CRS and project it into the requested output CRS. We overwrite the keyword arguments from source metadata based on the transformation algorithm as well."
   ]
  },
  {
   "cell_type": "code",
   "execution_count": 34,
   "id": "fbabdb2d-cfa7-439a-817b-28d331dcf831",
   "metadata": {},
   "outputs": [],
   "source": [
    "from rasterio.warp import calculate_default_transform, reproject, Resampling"
   ]
  },
  {
   "cell_type": "code",
   "execution_count": 35,
   "id": "1e87e8b1-e185-4a4b-ac63-36bf7cd24bcf",
   "metadata": {},
   "outputs": [],
   "source": [
    "dst_crs = 'epsg:3301'"
   ]
  },
  {
   "cell_type": "code",
   "execution_count": 37,
   "id": "cd74b1a9-9ca4-476a-be58-4637b51956f0",
   "metadata": {},
   "outputs": [],
   "source": [
    "with rasterio.open('data/precip_mean_4326.tif') as src:\n",
    "    transform, width, height = calculate_default_transform(src.crs, dst_crs, src.width, src.height, *src.bounds)\n",
    "    kwargs = src.meta.copy()\n",
    "    kwargs.update({'crs': dst_crs, 'transform': transform, 'width': width, 'height': height})\n",
    "    with rasterio.open('data/precip_mean_3301.tif', 'w', **kwargs) as dst:\n",
    "        reproject(\n",
    "            source=rasterio.band(src, 1), \n",
    "            destination=rasterio.band(dst, 1), \n",
    "            src_transform=src.transform, \n",
    "            src_crs=src.crs, \n",
    "            dst_transform=transform, \n",
    "            dst_crs=dst_crs, \n",
    "            resampling=Resampling.nearest\n",
    "        )"
   ]
  },
  {
   "cell_type": "markdown",
   "id": "7f5f4cc4-a98c-497b-8537-30a79053d779",
   "metadata": {},
   "source": [
    "If we now look at the new file then we can see that we have the requested CRS assigned to it."
   ]
  },
  {
   "cell_type": "code",
   "execution_count": 38,
   "id": "35901302-a3a6-44ee-975a-a9b181d7b701",
   "metadata": {},
   "outputs": [
    {
     "data": {
      "text/plain": [
       "CRS.from_epsg(3301)"
      ]
     },
     "execution_count": 38,
     "metadata": {},
     "output_type": "execute_result"
    }
   ],
   "source": [
    "rasterio.open('data/precip_mean_3301.tif').crs"
   ]
  },
  {
   "cell_type": "markdown",
   "id": "7e2404e0-7da8-4a63-805b-ca6763fdd061",
   "metadata": {},
   "source": [
    "## Calculate zonal statistics with Rasterstats"
   ]
  },
  {
   "cell_type": "markdown",
   "id": "762a8ce3-d81d-4846-a12a-c3499d2f2641",
   "metadata": {},
   "source": [
    "We have now reached the final part of this basic tutorial, where we take the previously created raster dataset and extract some basic statistics about annual mean precipitation within the Emajõgi catchment.\n",
    "\n",
    "We will read in the shapefile of the Emajõgi catchment as a GeoDataFrame."
   ]
  },
  {
   "cell_type": "code",
   "execution_count": 40,
   "id": "dc23cc31-1dd2-4a24-8286-6e44d95e0b74",
   "metadata": {},
   "outputs": [],
   "source": [
    "ema_catchment_tartu = gpd.read_file('data/ema_catchment_tartu.shp')"
   ]
  },
  {
   "cell_type": "code",
   "execution_count": 42,
   "id": "f7bfd2f6-996e-4409-8201-2f239c71045f",
   "metadata": {},
   "outputs": [
    {
     "data": {
      "text/plain": [
       "<AxesSubplot:>"
      ]
     },
     "execution_count": 42,
     "metadata": {},
     "output_type": "execute_result"
    },
    {
     "data": {
      "image/png": "[encoded data removed]",
      "text/plain": [
       "<Figure size 432x288 with 1 Axes>"
      ]
     },
     "metadata": {
      "needs_background": "light"
     },
     "output_type": "display_data"
    }
   ],
   "source": [
    "ema_catchment_tartu.boundary.plot()"
   ]
  },
  {
   "cell_type": "markdown",
   "id": "cc96da23-718f-4da2-89f4-4c31a7e20f33",
   "metadata": {},
   "source": [
    "Function zonal_stats from the Rasterstats library can take vector mask of polygons either in the form of a GeoDataFrame object or a shapefile and calculate raster statistics based on the extent of input polygons."
   ]
  },
  {
   "cell_type": "code",
   "execution_count": 47,
   "id": "51949959-8ca0-466c-9d0a-b5d25f66e09d",
   "metadata": {},
   "outputs": [],
   "source": [
    "from rasterstats import zonal_stats"
   ]
  },
  {
   "cell_type": "code",
   "execution_count": 49,
   "id": "3178b61a-ceb9-4a90-ac7e-e017aecabe66",
   "metadata": {},
   "outputs": [],
   "source": [
    "stats = zonal_stats(ema_catchment_tartu, 'data/precip_mean_3301.tif', stats=['min', 'max', 'mean', 'std', 'range'], prefix='precip_')"
   ]
  },
  {
   "cell_type": "markdown",
   "id": "e9b33935-8921-4fc1-8d30-fbb086181b68",
   "metadata": {},
   "source": [
    "The output is a Python list of dictionaries. In our case, we only had a single polygon, but the process can be used to extract statistics from many polygons as well."
   ]
  },
  {
   "cell_type": "code",
   "execution_count": 50,
   "id": "5f95cc7b-f193-4beb-be35-a6f1126289e2",
   "metadata": {},
   "outputs": [
    {
     "data": {
      "text/plain": [
       "[{'precip_min': 538.6592,\n",
       "  'precip_max': 856.6505,\n",
       "  'precip_mean': 700.8437436363636,\n",
       "  'precip_std': 89.78773538804293,\n",
       "  'precip_range': 317.9912999999999}]"
      ]
     },
     "execution_count": 50,
     "metadata": {},
     "output_type": "execute_result"
    }
   ],
   "source": [
    "stats"
   ]
  },
  {
   "cell_type": "code",
   "execution_count": 52,
   "id": "023636b0-0ba8-4c37-97d7-c0ca340fdf76",
   "metadata": {},
   "outputs": [],
   "source": [
    "stats_df = pd.DataFrame(stats)"
   ]
  },
  {
   "cell_type": "code",
   "execution_count": 53,
   "id": "8a0d390c-c8ec-482f-9bff-5e4e85f267bf",
   "metadata": {},
   "outputs": [
    {
     "data": {
      "text/html": [
       "<div>\n",
       "<style scoped>\n",
       "    .dataframe tbody tr th:only-of-type {\n",
       "        vertical-align: middle;\n",
       "    }\n",
       "\n",
       "    .dataframe tbody tr th {\n",
       "        vertical-align: top;\n",
       "    }\n",
       "\n",
       "    .dataframe thead th {\n",
       "        text-align: right;\n",
       "    }\n",
       "</style>\n",
       "<table border=\"1\" class=\"dataframe\">\n",
       "  <thead>\n",
       "    <tr style=\"text-align: right;\">\n",
       "      <th></th>\n",
       "      <th>precip_min</th>\n",
       "      <th>precip_max</th>\n",
       "      <th>precip_mean</th>\n",
       "      <th>precip_std</th>\n",
       "      <th>precip_range</th>\n",
       "    </tr>\n",
       "  </thead>\n",
       "  <tbody>\n",
       "    <tr>\n",
       "      <th>0</th>\n",
       "      <td>538.6592</td>\n",
       "      <td>856.6505</td>\n",
       "      <td>700.843744</td>\n",
       "      <td>89.787735</td>\n",
       "      <td>317.9913</td>\n",
       "    </tr>\n",
       "  </tbody>\n",
       "</table>\n",
       "</div>"
      ],
      "text/plain": [
       "   precip_min  precip_max  precip_mean  precip_std  precip_range\n",
       "0    538.6592    856.6505   700.843744   89.787735      317.9913"
      ]
     },
     "execution_count": 53,
     "metadata": {},
     "output_type": "execute_result"
    }
   ],
   "source": [
    "stats_df"
   ]
  },
  {
   "cell_type": "markdown",
   "id": "79bd8aca-6aec-4607-af26-31ff76c3dca0",
   "metadata": {},
   "source": [
    "This concludes our basic tutorial. The libraries used here are documented well in the corresponding online resource pages, so you can always find examples of how to carry out certain processing steps."
   ]
  }
 ],
 "metadata": {
  "kernelspec": {
   "display_name": "ecolchange",
   "language": "python",
   "name": "ecolchange"
  },
  "language_info": {
   "codemirror_mode": {
    "name": "ipython",
    "version": 3
   },
   "file_extension": ".py",
   "mimetype": "text/x-python",
   "name": "python",
   "nbconvert_exporter": "python",
   "pygments_lexer": "ipython3",
   "version": "3.9.7"
  }
 },
 "nbformat": 4,
 "nbformat_minor": 5
}
